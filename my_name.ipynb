{
 "cells": [
  {
   "cell_type": "code",
   "execution_count": 6,
   "metadata": {
    "scrolled": true
   },
   "outputs": [
    {
     "name": "stdout",
     "output_type": "stream",
     "text": [
      "Enter Your Name : Automne\n",
      "Your name :  Automne\n",
      "<class 'str'>\n",
      "The city you were born : Haidong\n",
      "The city you were born :  Haidong\n",
      "<class 'str'>\n",
      "Your favorite sports team : Lightning\n",
      "Your favorite sports team:  Lightning\n",
      "<class 'str'>\n",
      "Your undergraduate major : Financial Engineering\n",
      "Your undergraduate major  Financial Engineering\n",
      "<class 'str'>\n"
     ]
    }
   ],
   "source": [
    "name = input('Enter Your Name : ')\n",
    "print('Your name : ',name)\n",
    "print (type(name))\n",
    "\n",
    "City_born = input('The city you were born : ')\n",
    "print('The city you were born : ',City_born)\n",
    "print (type(City_born ))\n",
    "\n",
    "favorite_sports_team = input('Your favorite sports team : ')\n",
    "print('Your favorite sports team: ',favorite_sports_team )\n",
    "print (type(favorite_sports_team  ))\n",
    "\n",
    "undergraduate_major = input('Your undergraduate major : ')\n",
    "print('Your undergraduate major ',undergraduate_major )\n",
    "print (type(undergraduate_major ))\n"
   ]
  },
  {
   "cell_type": "markdown",
   "metadata": {},
   "source": [
    "### Test the file in the code archive"
   ]
  },
  {
   "cell_type": "code",
   "execution_count": 5,
   "metadata": {},
   "outputs": [
    {
     "name": "stdout",
     "output_type": "stream",
     "text": [
      "Enter Your Name : Automne Xu\n",
      "Your name :  Automne Xu\n",
      "<class 'str'>\n",
      "Enter Your Age : 27\n",
      "Your age :  27\n",
      "<class 'int'>\n",
      "Enter Your Rate - two decimals : 10\n",
      "Your value :  10.0\n",
      "<class 'float'>\n",
      "Enter any number : 67\n",
      "The variable num is 67\n",
      "<class 'str'>\n"
     ]
    }
   ],
   "source": [
    "# input options\n",
    "\n",
    "name = input('Enter Your Name : ')\n",
    "print('Your name : ',name)\n",
    "print (type(name))\n",
    "\n",
    "age = int(input('Enter Your Age : '))\n",
    "print('Your age : ',age)\n",
    "print (type(age))\n",
    "\n",
    "value = float(input('Enter Your Rate - two decimals : '))\n",
    "print('Your value : ',value)\n",
    "print (type(value))\n",
    "\n",
    "            \n",
    "num = input('Enter any number : ')\n",
    "print ('The variable num is ' + num)\n",
    "print (type(num))\n",
    "\n"
   ]
  },
  {
   "cell_type": "code",
   "execution_count": 1,
   "metadata": {},
   "outputs": [
    {
     "name": "stdout",
     "output_type": "stream",
     "text": [
      "Hello, World.\n"
     ]
    }
   ],
   "source": [
    "print('Hello, World.')"
   ]
  },
  {
   "cell_type": "code",
   "execution_count": null,
   "metadata": {},
   "outputs": [],
   "source": [
    "#print('me too') this line is ignored"
   ]
  },
  {
   "cell_type": "code",
   "execution_count": null,
   "metadata": {},
   "outputs": [],
   "source": [
    "import platform\n",
    "# test the installed version\n",
    "print('This is python version {}'.format(platform.python_version()))"
   ]
  },
  {
   "cell_type": "markdown",
   "metadata": {},
   "source": [
    "Test math.py"
   ]
  },
  {
   "cell_type": "code",
   "execution_count": 3,
   "metadata": {},
   "outputs": [
    {
     "name": "stdout",
     "output_type": "stream",
     "text": [
      "x y values are:  17 5\n",
      "add 22\n",
      "subtract 12\n",
      "multiply 85\n",
      "divide 3.4\n",
      "quotient x devided by y 3\n",
      "modulus x devided by y 2\n"
     ]
    }
   ],
   "source": [
    "# two variables\n",
    "x = 17\n",
    "y = 5\n",
    "\n",
    "print (\"x y values are: \", x, y)\n",
    "\n",
    "#math\n",
    "print(\"add\", x + y)\n",
    "print(\"subtract\", x - y)\n",
    "print(\"multiply\", x * y)\n",
    "print(\"divide\", x / y)\n",
    "\n",
    "#quotient       \n",
    "print(\"quotient x devided by y\", x // y)\n",
    "\n",
    "#modulus       \n",
    "print(\"modulus x devided by y\", x % y)\n"
   ]
  },
  {
   "cell_type": "markdown",
   "metadata": {},
   "source": [
    "Sample_variables.py"
   ]
  },
  {
   "cell_type": "code",
   "execution_count": 4,
   "metadata": {},
   "outputs": [
    {
     "name": "stdout",
     "output_type": "stream",
     "text": [
      "Billy is 12.0 years old, and his IQ is 24\n",
      "<class 'str'>\n",
      "<class 'float'>\n",
      "<class 'int'>\n"
     ]
    }
   ],
   "source": [
    "# sample variables\n",
    "x = 'Billy'\n",
    "y = 12.0\n",
    "z = 24\n",
    "\n",
    "print(x,'is',y,'years old, and his IQ is',z)\n",
    "\n",
    "# and their types\n",
    "print (type(x))\n",
    "print (type(y))\n",
    "print (type(z))\n"
   ]
  },
  {
   "cell_type": "code",
   "execution_count": null,
   "metadata": {},
   "outputs": [],
   "source": []
  }
 ],
 "metadata": {
  "kernelspec": {
   "display_name": "Python 3",
   "language": "python",
   "name": "python3"
  },
  "language_info": {
   "codemirror_mode": {
    "name": "ipython",
    "version": 3
   },
   "file_extension": ".py",
   "mimetype": "text/x-python",
   "name": "python",
   "nbconvert_exporter": "python",
   "pygments_lexer": "ipython3",
   "version": "3.7.4"
  }
 },
 "nbformat": 4,
 "nbformat_minor": 4
}
