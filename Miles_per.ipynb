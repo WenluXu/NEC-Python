{
 "cells": [
  {
   "cell_type": "markdown",
   "metadata": {},
   "source": [
    "A car's miles per gallon (MPG) can be calculated with the following formula: \n",
    "\n",
    "MPG = Miles driven ÷ Gallons of gas used \n",
    "\n",
    "Write a program named mles_per.py that asks the user for the number of miles driven and the gallons of gas used. It should calculate the car's MPG and display the result. \n",
    "\n"
   ]
  },
  {
   "cell_type": "code",
   "execution_count": 2,
   "metadata": {},
   "outputs": [
    {
     "name": "stdout",
     "output_type": "stream",
     "text": [
      "How many gallons of gas you used in this trip?24\n",
      "24.0  of gallons used in this trip.\n",
      "How many miles you drove in this trip?150\n",
      "150.0  of miles drove in this trip.\n",
      "Your MPG is  6.25\n"
     ]
    }
   ],
   "source": [
    "gas_gallon = float(input('How many gallons of gas you used in this trip?'))\n",
    "print(gas_gallon, ' of gallons used in this trip.')\n",
    "\n",
    "miles = float(input('How many miles you drove in this trip?'))\n",
    "print(miles, ' of miles drove in this trip.')\n",
    "\n",
    "print('Your MPG is ', miles/gas_gallon)"
   ]
  },
  {
   "cell_type": "code",
   "execution_count": null,
   "metadata": {},
   "outputs": [],
   "source": []
  }
 ],
 "metadata": {
  "kernelspec": {
   "display_name": "Python 3",
   "language": "python",
   "name": "python3"
  },
  "language_info": {
   "codemirror_mode": {
    "name": "ipython",
    "version": 3
   },
   "file_extension": ".py",
   "mimetype": "text/x-python",
   "name": "python",
   "nbconvert_exporter": "python",
   "pygments_lexer": "ipython3",
   "version": "3.7.4"
  }
 },
 "nbformat": 4,
 "nbformat_minor": 4
}
